{
 "cells": [
  {
   "cell_type": "markdown",
   "metadata": {},
   "source": [
    "### スクレイピング"
   ]
  },
  {
   "cell_type": "code",
   "execution_count": null,
   "metadata": {},
   "outputs": [],
   "source": [
    "import requests\n",
    "from bs4 import BeautifulSoup\n",
    "import psycopg2\n",
    "from psycopg2 import sql\n",
    "\n",
    "# スクレイピング関数\n",
    "def scrape_transit_data(start_station, end_station):\n",
    "    url = f\"https://transit.yahoo.co.jp/search/result?from={start_station}&to={end_station}\"\n",
    "    response = requests.get(url)\n",
    "    soup = BeautifulSoup(response.text, 'html.parser')\n",
    "    \n",
    "    routes = []\n",
    "    for route in soup.select('.routeDetail'):\n",
    "        try:\n",
    "            # 出発時刻と到着時刻\n",
    "            times = route.select_one('.time').get_text().split('→')\n",
    "            departure_time = times[0].strip()\n",
    "            arrival_time = times[1].strip()\n",
    "            \n",
    "            # 乗り換え回数\n",
    "            transfer_count = int(route.select_one('.transfer').get_text().replace('乗り換え', '').replace('回', ''))\n",
    "            \n",
    "            # 所要時間\n",
    "            travel_time = route.select_one('.time').get_text().strip().split('(')[1].replace(')', '').replace('分', '')\n",
    "            travel_time = int(travel_time)\n",
    "            \n",
    "            # 運賃\n",
    "            fare = route.select_one('.fare').get_text().replace('¥', '').replace(',', '')\n",
    "            fare = int(fare)\n",
    "            \n",
    "            # データをリストに追加\n",
    "            routes.append({\n",
    "                'departure_time': departure_time,\n",
    "                'arrival_time': arrival_time,\n",
    "                'transfer_count': transfer_count,\n",
    "                'travel_time': travel_time,\n",
    "                'fare': fare\n",
    "            })\n",
    "        except Exception as e:\n",
    "            print(f\"Error parsing route: {e}\")\n",
    "            continue\n",
    "\n",
    "    return routes\n"
   ]
  },
  {
   "cell_type": "markdown",
   "metadata": {},
   "source": [
    "### データベースに保存"
   ]
  },
  {
   "cell_type": "code",
   "execution_count": 1,
   "metadata": {},
   "outputs": [
    {
     "ename": "NameError",
     "evalue": "name 'psycopg2' is not defined",
     "output_type": "error",
     "traceback": [
      "\u001b[0;31m---------------------------------------------------------------------------\u001b[0m",
      "\u001b[0;31mNameError\u001b[0m                                 Traceback (most recent call last)",
      "Cell \u001b[0;32mIn[1], line 2\u001b[0m\n\u001b[1;32m      1\u001b[0m \u001b[38;5;66;03m# データベース接続設定\u001b[39;00m\n\u001b[0;32m----> 2\u001b[0m conn \u001b[38;5;241m=\u001b[39m \u001b[43mpsycopg2\u001b[49m\u001b[38;5;241m.\u001b[39mconnect(\n\u001b[1;32m      3\u001b[0m     dbname\u001b[38;5;241m=\u001b[39m\u001b[38;5;124m\"\u001b[39m\u001b[38;5;124myour_database_name\u001b[39m\u001b[38;5;124m\"\u001b[39m,\n\u001b[1;32m      4\u001b[0m     user\u001b[38;5;241m=\u001b[39m\u001b[38;5;124m\"\u001b[39m\u001b[38;5;124myour_username\u001b[39m\u001b[38;5;124m\"\u001b[39m,\n\u001b[1;32m      5\u001b[0m     password\u001b[38;5;241m=\u001b[39m\u001b[38;5;124m\"\u001b[39m\u001b[38;5;124myour_password\u001b[39m\u001b[38;5;124m\"\u001b[39m,\n\u001b[1;32m      6\u001b[0m     host\u001b[38;5;241m=\u001b[39m\u001b[38;5;124m\"\u001b[39m\u001b[38;5;124myour_host\u001b[39m\u001b[38;5;124m\"\u001b[39m,\n\u001b[1;32m      7\u001b[0m     port\u001b[38;5;241m=\u001b[39m\u001b[38;5;124m\"\u001b[39m\u001b[38;5;124myour_port\u001b[39m\u001b[38;5;124m\"\u001b[39m\n\u001b[1;32m      8\u001b[0m )\n\u001b[1;32m      9\u001b[0m cursor \u001b[38;5;241m=\u001b[39m conn\u001b[38;5;241m.\u001b[39mcursor()\n\u001b[1;32m     11\u001b[0m \u001b[38;5;66;03m# テーブルの作成\u001b[39;00m\n",
      "\u001b[0;31mNameError\u001b[0m: name 'psycopg2' is not defined"
     ]
    }
   ],
   "source": [
    "# データベース接続設定\n",
    "conn = psycopg2.connect(\n",
    "    dbname=\"your_database_name\",\n",
    "    user=\"your_username\",\n",
    "    password=\"your_password\",\n",
    "    host=\"your_host\",\n",
    "    port=\"your_port\"\n",
    ")\n",
    "cursor = conn.cursor()\n",
    "\n",
    "# テーブルの作成\n",
    "def create_table():\n",
    "    create_table_query = \"\"\"\n",
    "    CREATE TABLE IF NOT EXISTS routes_table (\n",
    "        id SERIAL PRIMARY KEY,\n",
    "        departure_time VARCHAR(10),\n",
    "        arrival_time VARCHAR(10),\n",
    "        transfer_count INTEGER,\n",
    "        travel_time INTEGER,\n",
    "        fare INTEGER\n",
    "    );\n",
    "    \"\"\"\n",
    "    cursor.execute(create_table_query)\n",
    "    conn.commit()\n",
    "\n",
    "# データの挿入\n",
    "def insert_data(routes):\n",
    "    insert_query = \"\"\"\n",
    "    INSERT INTO routes_table (departure_time, arrival_time, transfer_count, travel_time, fare)\n",
    "    VALUES (%s, %s, %s, %s, %s);\n",
    "    \"\"\"\n",
    "    for route in routes:\n",
    "        cursor.execute(insert_query, (\n",
    "            route['departure_time'],\n",
    "            route['arrival_time'],\n",
    "            route['transfer_count'],\n",
    "            route['travel_time'],\n",
    "            route['fare']\n",
    "        ))\n",
    "    conn.commit()\n",
    "\n",
    "# テーブル作成の実行\n",
    "create_table()\n",
    "\n",
    "# 川口駅から国際展示場駅までのデータ取得と保存\n",
    "routes = scrape_transit_data(\"川口\", \"国際展示場\")\n",
    "insert_data(routes)\n",
    "\n",
    "# データベース接続を閉じる\n",
    "cursor.close()\n",
    "conn.close()\n"
   ]
  }
 ],
 "metadata": {
  "kernelspec": {
   "display_name": "Python 3",
   "language": "python",
   "name": "python3"
  },
  "language_info": {
   "codemirror_mode": {
    "name": "ipython",
    "version": 3
   },
   "file_extension": ".py",
   "mimetype": "text/x-python",
   "name": "python",
   "nbconvert_exporter": "python",
   "pygments_lexer": "ipython3",
   "version": "3.10.1"
  }
 },
 "nbformat": 4,
 "nbformat_minor": 2
}
