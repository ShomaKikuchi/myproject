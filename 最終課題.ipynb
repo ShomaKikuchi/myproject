{
 "cells": [
  {
   "cell_type": "markdown",
   "metadata": {},
   "source": [
    "#スクレイピング"
   ]
  },
  {
   "cell_type": "code",
   "execution_count": null,
   "metadata": {
    "vscode": {
     "languageId": "plaintext"
    }
   },
   "outputs": [],
   "source": [
    "import requests\n",
    "from bs4 import BeautifulSoup\n",
    "import psycopg2\n",
    "from psycopg2 import sql\n",
    "\n",
    "# スクレイピング関数\n",
    "def scrape_transit_data(start_station, end_station):\n",
    "    url = f\"https://transit.yahoo.co.jp/search/result?from={start_station}&to={end_station}\"\n",
    "    response = requests.get(url)\n",
    "    soup = BeautifulSoup(response.text, 'html.parser')\n",
    "    \n",
    "    routes = []\n",
    "    for route in soup.select('.routeDetail'):\n",
    "        try:\n",
    "            # 出発時刻と到着時刻\n",
    "            times = route.select_one('.time').get_text().split('→')\n",
    "            departure_time = times[0].strip()\n",
    "            arrival_time = times[1].strip()\n",
    "            \n",
    "            # 乗り換え回数\n",
    "            transfer_count = int(route.select_one('.transfer').get_text().replace('乗り換え', '').replace('回', ''))\n",
    "            \n",
    "            # 所要時間\n",
    "            travel_time = route.select_one('.time').get_text().strip().split('(')[1].replace(')', '').replace('分', '')\n",
    "            travel_time = int(travel_time)\n",
    "            \n",
    "            # 運賃\n",
    "            fare = route.select_one('.fare').get_text().replace('¥', '').replace(',', '')\n",
    "            fare = int(fare)\n",
    "            \n",
    "            # データをリストに追加\n",
    "            routes.append({\n",
    "                'departure_time': departure_time,\n",
    "                'arrival_time': arrival_time,\n",
    "                'transfer_count': transfer_count,\n",
    "                'travel_time': travel_time,\n",
    "                'fare': fare\n",
    "            })\n",
    "        except Exception as e:\n",
    "            print(f\"Error parsing route: {e}\")\n",
    "            continue\n",
    "\n",
    "    return routes\n"
   ]
  }
 ],
 "metadata": {
  "language_info": {
   "name": "python"
  }
 },
 "nbformat": 4,
 "nbformat_minor": 2
}
